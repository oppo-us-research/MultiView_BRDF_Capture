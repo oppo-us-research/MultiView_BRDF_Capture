{
 "cells": [
  {
   "cell_type": "code",
   "execution_count": 1,
   "metadata": {},
   "outputs": [],
   "source": [
    "import cv2\n",
    "import numpy as np\n",
    "import os"
   ]
  },
  {
   "cell_type": "code",
   "execution_count": 2,
   "metadata": {},
   "outputs": [],
   "source": [
    "def read_hdr(path, h=None, w=None):\n",
    "    \"\"\"Reads an HDR map from disk.\n",
    "\n",
    "    Args:\n",
    "        path (str): Path to the .hdr file.\n",
    "\n",
    "    Returns:\n",
    "        numpy.ndarray: Loaded (float) HDR map with RGB channels in order.\n",
    "    \"\"\"\n",
    "    with open(path, 'rb') as f:\n",
    "        buffer_ = np.frombuffer(f.read(), np.uint8)\n",
    "    bgr = cv2.imdecode(buffer_, cv2.IMREAD_UNCHANGED)\n",
    "    rgb = cv2.cvtColor(bgr, cv2.COLOR_BGR2RGB)\n",
    "    if (h is not None) and (w is not None):\n",
    "        assert (h <= rgb.shape[0]) and (w <= rgb.shape[1])\n",
    "        rgb = cv2.resize(rgb, dsize=(h, w), interpolation=cv2.INTER_AREA)\n",
    "    return rgb\n",
    "\n",
    "def write_hdr(rgb, outpath):\n",
    "    r\"\"\"Writes a ``float32`` array as an HDR map to disk.\n",
    "\n",
    "    Args:\n",
    "        rgb (numpy.ndarray): ``float32`` RGB array.\n",
    "        outpath (str): Output path.\n",
    "\n",
    "    Writes\n",
    "        - The resultant HDR map.\n",
    "    \"\"\"\n",
    "    bgr = cv2.cvtColor(rgb, cv2.COLOR_RGB2BGR)\n",
    "    success = cv2.imwrite(outpath, bgr)"
   ]
  },
  {
   "cell_type": "code",
   "execution_count": 5,
   "metadata": {},
   "outputs": [],
   "source": [
    "hdr_base_path = \"/home/haian/research/blender/light_probes/high_res_envmaps_1k/\"\n",
    "# hdr_output_path = \"/home/haian/research/blender/light_probes/high_res_envmaps_2k_3/\"\n",
    "# hdr_base_path = \"/home/haian/Dataset/nerfactor/light_probes_rotate/2163/\"\n",
    "hdr_output_path = \"/home/haian/research/blender/light_probes/high_res_envmaps_1k_128_bridge\"\n",
    "\n",
    "# if not os.path.exists(hdr_output_path):\n",
    "#     os.makedirs(hdr_output_path)\n",
    "# hdr_list = ['sunset']\n",
    "# # hdr_list = ['bridge', 'city', 'courtyard', 'fireplace', 'forest', 'interior', 'museum', 'night', 'snow', 'square', 'studio', 'sunrise', 'sunset', 'tunnel']\n",
    "# rotation_num = 3\n",
    "# rotation_degree = int(360 / rotation_num)\n",
    "# for hdr in hdr_list:\n",
    "#     for i in range(rotation_num):\n",
    "#         angle = i * rotation_degree\n",
    "#         # input_path = os.path.join(hdr_base_path, f'{hdr}_{0:03d}.hdr')\n",
    "#         input_path=\"/home/haian/Dataset/nerfactor/light-probes_32_16/light-probes/train/2163.hdr\"\n",
    "#         # output_path = os.path.join(hdr_output_path, f'{hdr}_{angle:03d}.hdr')\n",
    "#         output_path = os.path.join(hdr_output_path, f'2163_{angle:03d}.hdr')\n",
    "#         img = read_hdr(input_path)\n",
    "#         h, w, _ = img.shape\n",
    "#         interval = w / rotation_num\n",
    "#         begin = int(i * interval)\n",
    "#         img = np.hstack([img[:, begin:, :], img[:, :begin, :]])\n",
    "#         write_hdr(img, output_path)\n",
    "\n",
    "\n",
    "if not os.path.exists(hdr_output_path):\n",
    "    os.makedirs(hdr_output_path)\n",
    "hdr_list = ['bridge']\n",
    "# hdr_list = ['bridge', 'city', 'courtyard', 'fireplace', 'forest', 'interior', 'museum', 'night', 'snow', 'square', 'studio', 'sunrise', 'sunset', 'tunnel']\n",
    "rotation_num = 128\n",
    "# rotation_degree = int(360 / rotation_num)\n",
    "for hdr in hdr_list:\n",
    "    for i in range(rotation_num):\n",
    "        # angle = i * rotation_degree\n",
    "        input_path = os.path.join(hdr_base_path, f'{hdr}.hdr')\n",
    "        output_path = os.path.join(hdr_output_path, f'{hdr}_{i:03d}.hdr')\n",
    "        img = read_hdr(input_path)\n",
    "        h, w, _ = img.shape\n",
    "        interval = w / rotation_num\n",
    "        begin = int(i * interval)\n",
    "        img = np.hstack([img[:, begin:, :], img[:, :begin, :]])\n",
    "        write_hdr(img, output_path)"
   ]
  },
  {
   "cell_type": "code",
   "execution_count": 3,
   "metadata": {},
   "outputs": [],
   "source": [
    "hdr_base_path = \"/home/haian/research/blender/light_probes/high_res_envmaps_1k/\"\n",
    "hdr_output_path = \"/home/haian/research/blender/light_probes/high_res_envmaps_1k_128_bridge\"\n",
    "resized_dir = \"/home/haian/research/blender/light_probes/high_res_envmaps_16_32_128_bridge\"\n",
    "if not os.path.exists(resized_dir):\n",
    "    os.makedirs(resized_dir)\n",
    "\n",
    "for file in os.listdir(hdr_output_path):\n",
    "    if file.endswith(\".hdr\"):\n",
    "\n",
    "        file_name = os.path.join(hdr_output_path, file)\n",
    "        envmap = read_hdr(file_name, 32, 16)\n",
    "        output_path = os.path.join(resized_dir, file)\n",
    "        # print(output_path)\n",
    "        write_hdr(envmap, output_path)"
   ]
  },
  {
   "cell_type": "code",
   "execution_count": 4,
   "metadata": {},
   "outputs": [],
   "source": [
    "hdr_base_path = \"/home/haian/research/blender/light_probes/high_res_envmaps_1k/\"\n",
    "hdr_output_path = \"/home/haian/research/blender/light_probes/high_res_envmaps_1k_128_bridge\"\n",
    "resized_dir = \"/home/haian/research/blender/light_probes/high_res_envmaps_16_32_128_bridge\"\n",
    "if not os.path.exists(resized_dir):\n",
    "    os.makedirs(resized_dir)\n",
    "\n",
    "# read envmap from .hdr file and downsample to 16x32 with blender\n",
    "\n",
    "\n",
    "for file in os.listdir(hdr_output_path):\n",
    "    if file.endswith(\".hdr\"):\n",
    "\n",
    "        file_name = os.path.join(hdr_output_path, file)\n",
    "        envmap = read_hdr(file_name)\n",
    "        # horizonally rotate\n",
    "        "
   ]
  },
  {
   "cell_type": "code",
   "execution_count": null,
   "metadata": {},
   "outputs": [],
   "source": [
    "hdr_base_path = \"/home/haian/research/blender/light_probes/high_res_envmaps_1k/\"\n",
    "hdr_output_path = \"/home/haian/research/blender/light_probes/high_res_envmaps_1k_128\"\n",
    "\n",
    "resized_dir = \"/home/haian/research/blender/light_probes/high_res_envmaps_16_32_128\"\n",
    "\n",
    "from envmap import read_hdr, write_hdr\n",
    "\n",
    "for file in os.listdir(hdr_output_path):\n",
    "    if file.endswith(\".hdr\"):\n",
    "        print(os.path.join(hdr_output_path, file))\n",
    "        # downsample the latlong envmap to 16x32\n",
    "        img = read_hdr(os.path.join(hdr_output_path, file), h=16, w=32)"
   ]
  },
  {
   "cell_type": "markdown",
   "metadata": {},
   "source": []
  }
 ],
 "metadata": {
  "kernelspec": {
   "display_name": "Python 3.8.13 ('TensoRF')",
   "language": "python",
   "name": "python3"
  },
  "language_info": {
   "codemirror_mode": {
    "name": "ipython",
    "version": 3
   },
   "file_extension": ".py",
   "mimetype": "text/x-python",
   "name": "python",
   "nbconvert_exporter": "python",
   "pygments_lexer": "ipython3",
   "version": "3.8.13"
  },
  "orig_nbformat": 4,
  "vscode": {
   "interpreter": {
    "hash": "82e806435e42079727e05bb3c0e93039bb4aaaceda23dbe523714034cf38909b"
   }
  }
 },
 "nbformat": 4,
 "nbformat_minor": 2
}
