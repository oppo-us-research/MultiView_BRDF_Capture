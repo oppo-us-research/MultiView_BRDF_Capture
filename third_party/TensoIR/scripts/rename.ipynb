{
 "cells": [
  {
   "cell_type": "code",
   "execution_count": 5,
   "metadata": {},
   "outputs": [],
   "source": [
    "import cv2\n",
    "import os\n",
    "from tqdm import tqdm\n",
    "import numpy as np\n",
    "input_base_dir = '/home/haian/Dataset/real_captured/dog/dog_masked'\n",
    "\n",
    "output_base_dir = '/home/haian/Dataset/real_captured/dog_all_renamed'\n",
    "\n",
    "if os.path.exists(output_base_dir) == False:\n",
    "    os.mkdir(output_base_dir)\n",
    "# ramdomly select 100 images for each rotation to train and else to test\n",
    "for rotation_idx, sub_dir in enumerate(os.listdir(input_base_dir)):\n",
    "    input_sub_dir_path = os.path.join(input_base_dir, sub_dir)\n",
    "    input_images = os.listdir(input_sub_dir_path)\n",
    "    # random select 100 images without repetition\n",
    "    selected_images = np.random.choice(input_images, 100, replace=False)\n",
    "    \n",
    "    selected_images.sort()\n",
    "    input_images.sort()\n",
    "    train_idx = 0\n",
    "    test_idx = 0\n",
    "    os.makedirs(os.path.join(output_base_dir, 'train'), exist_ok=True)\n",
    "    os.makedirs(os.path.join(output_base_dir, 'test'), exist_ok=True)\n",
    "    for idx, image in enumerate(input_images):\n",
    "        image_path = os.path.join(input_sub_dir_path, image)\n",
    "        if image in selected_images:\n",
    "            output_image_path = os.path.join(output_base_dir, 'train', 'rotation_{:1d}_{:04d}'.format(rotation_idx, train_idx) + '.png')\n",
    "            train_idx += 1\n",
    "        else:\n",
    "            output_image_path = os.path.join(output_base_dir, 'test', 'rotation_{:1d}_{:04d}'.format(rotation_idx, test_idx) + '.png')\n",
    "            test_idx += 1\n",
    "        os.system('cp {} {}'.format(image_path, output_image_path))"
   ]
  },
  {
   "cell_type": "code",
   "execution_count": 8,
   "metadata": {},
   "outputs": [],
   "source": [
    "# original_image_dir = '/home/haian/Dataset/real_captured/dog_maksed_selected'\n",
    "# rename_image_dir = '/home/haian/Dataset/real_captured/dog_all'\n",
    "\n",
    "# if os.path.exists(rename_image_dir) == False:\n",
    "#     os.mkdir(rename_image_dir)\n",
    "# for rotation_idx, sub_dir in enumerate(os.listdir(original_image_dir)):\n",
    "#     input_sub_dir_path = os.path.join(original_image_dir, sub_dir)\n",
    "#     input_images = os.listdir(input_sub_dir_path)\n",
    "#     input_images.sort()\n",
    "    \n",
    "    \n",
    "#     for idx, image in enumerate(input_images):\n",
    "\n",
    "#         image_path = os.path.join(input_sub_dir_path, image)\n",
    "#         output_image_name = 'rotation_{:1d}_{:04d}'.format(rotation_idx, idx) + '.png'\n",
    "#         output_image_path = os.path.join(rename_image_dir, output_image_name)\n",
    "#         os.system('cp {} {}'.format(image_path, output_image_path))"
   ]
  }
 ],
 "metadata": {
  "kernelspec": {
   "display_name": "Python 3.8.13 ('TensoRF')",
   "language": "python",
   "name": "python3"
  },
  "language_info": {
   "codemirror_mode": {
    "name": "ipython",
    "version": 3
   },
   "file_extension": ".py",
   "mimetype": "text/x-python",
   "name": "python",
   "nbconvert_exporter": "python",
   "pygments_lexer": "ipython3",
   "version": "3.8.13 (default, Mar 28 2022, 11:38:47) \n[GCC 7.5.0]"
  },
  "orig_nbformat": 4,
  "vscode": {
   "interpreter": {
    "hash": "82e806435e42079727e05bb3c0e93039bb4aaaceda23dbe523714034cf38909b"
   }
  }
 },
 "nbformat": 4,
 "nbformat_minor": 2
}
